{
 "cells": [
  {
   "cell_type": "code",
   "execution_count": 8,
   "id": "4c06c1a9",
   "metadata": {},
   "outputs": [],
   "source": [
    "import tensorflow as tf\n",
    "\n",
    "# Helper libraries\n",
    "import numpy as np\n",
    "import matplotlib.pyplot as plt\n",
    "from keras.preprocessing.image import ImageDataGenerator\n",
    "\n"
   ]
  },
  {
   "cell_type": "code",
   "execution_count": 4,
   "id": "9671fb56",
   "metadata": {},
   "outputs": [
    {
     "name": "stderr",
     "output_type": "stream",
     "text": [
      "Copying files: 4317 files [00:05, 793.09 files/s]\n"
     ]
    }
   ],
   "source": [
    "import splitfolders\n",
    "splitfolders.ratio('flowers', output=\"split_flowers\", seed=1337, ratio=(.8, 0.0,0.2)) \n"
   ]
  },
  {
   "cell_type": "code",
   "execution_count": 2,
   "id": "581a7888",
   "metadata": {},
   "outputs": [],
   "source": [
    "kaggle_data=ImageDataGenerator(\n",
    "             rescale=1./255,\n",
    "             shear_range=0.2,\n",
    "             zoom_range=0.2,\n",
    "             horizontal_flip=True) "
   ]
  },
  {
   "cell_type": "code",
   "execution_count": null,
   "id": "36a50bca",
   "metadata": {},
   "outputs": [],
   "source": []
  },
  {
   "cell_type": "code",
   "execution_count": 3,
   "id": "d81ee052",
   "metadata": {},
   "outputs": [
    {
     "name": "stdout",
     "output_type": "stream",
     "text": [
      "Found 3452 images belonging to 5 classes.\n"
     ]
    }
   ],
   "source": [
    "training_set = kaggle_data.flow_from_directory(\n",
    "        'split_flowers/train',\n",
    "        target_size=(28, 28),\n",
    "        batch_size=32,\n",
    "        class_mode='categorical')"
   ]
  },
  {
   "cell_type": "code",
   "execution_count": 4,
   "id": "38a07cce",
   "metadata": {},
   "outputs": [
    {
     "name": "stdout",
     "output_type": "stream",
     "text": [
      "Found 865 images belonging to 5 classes.\n"
     ]
    }
   ],
   "source": [
    "test_datagen = ImageDataGenerator(rescale=1./255)\n",
    "test_set = test_datagen.flow_from_directory(\n",
    "        'split_flowers/test',\n",
    "        target_size=(28, 28),\n",
    "        batch_size=32,\n",
    "        class_mode='categorical')"
   ]
  },
  {
   "cell_type": "code",
   "execution_count": 5,
   "id": "9dccc88e",
   "metadata": {},
   "outputs": [
    {
     "name": "stdout",
     "output_type": "stream",
     "text": [
      "<keras.preprocessing.image.DirectoryIterator object at 0x7f2f268145e0>\n"
     ]
    }
   ],
   "source": [
    "print(test_set)\n"
   ]
  },
  {
   "cell_type": "code",
   "execution_count": 7,
   "id": "0ae6db70",
   "metadata": {},
   "outputs": [],
   "source": [
    "dnn = tf.keras.models.Sequential()"
   ]
  },
  {
   "cell_type": "code",
   "execution_count": null,
   "id": "bc284390",
   "metadata": {},
   "outputs": [],
   "source": []
  },
  {
   "cell_type": "code",
   "execution_count": 10,
   "id": "7418c625",
   "metadata": {},
   "outputs": [],
   "source": [
    "dnn.add(tf.keras.layers.Conv2D(filters=64 , kernel_size=3 , activation='relu' , input_shape=[28,28,3]))\n",
    "dnn.add(tf.keras.layers.MaxPool2D(pool_size=2,strides=2))"
   ]
  },
  {
   "cell_type": "code",
   "execution_count": 11,
   "id": "50dc6d5d",
   "metadata": {},
   "outputs": [],
   "source": [
    "dnn.add(tf.keras.layers.Conv2D(filters=28, kernel_size=3 , activation='relu' ))\n",
    "dnn.add(tf.keras.layers.MaxPool2D(pool_size=2 , strides=1))"
   ]
  },
  {
   "cell_type": "code",
   "execution_count": 12,
   "id": "ce569346",
   "metadata": {},
   "outputs": [],
   "source": [
    "dnn.add(tf.keras.layers.Conv2D(filters=28 , kernel_size=3 , activation='relu' ))\n",
    "dnn.add(tf.keras.layers.MaxPool2D(pool_size=2 , strides=1))"
   ]
  },
  {
   "cell_type": "code",
   "execution_count": 13,
   "id": "32b6238c",
   "metadata": {},
   "outputs": [],
   "source": [
    "dnn.add(tf.keras.layers.Conv2D(filters=28 , kernel_size=3 , activation='relu' ))\n",
    "dnn.add(tf.keras.layers.MaxPool2D(pool_size=2 , strides=2))"
   ]
  },
  {
   "cell_type": "code",
   "execution_count": 14,
   "id": "a721c465",
   "metadata": {},
   "outputs": [],
   "source": [
    "dnn.add(tf.keras.layers.Dropout(0.5))"
   ]
  },
  {
   "cell_type": "code",
   "execution_count": 15,
   "id": "caa5389b",
   "metadata": {},
   "outputs": [],
   "source": [
    "dnn.add(tf.keras.layers.Flatten())"
   ]
  },
  {
   "cell_type": "code",
   "execution_count": 16,
   "id": "943e1fdd",
   "metadata": {},
   "outputs": [],
   "source": [
    "dnn.add(tf.keras.layers.Dense(1000, activation='relu'))"
   ]
  },
  {
   "cell_type": "code",
   "execution_count": 17,
   "id": "111b77a3",
   "metadata": {},
   "outputs": [],
   "source": [
    "dnn.add(tf.keras.layers.Dense(500, activation='relu'))"
   ]
  },
  {
   "cell_type": "code",
   "execution_count": 18,
   "id": "db192aec",
   "metadata": {},
   "outputs": [],
   "source": [
    "dnn.add(tf.keras.layers.Dense(250, activation='relu'))"
   ]
  },
  {
   "cell_type": "code",
   "execution_count": 19,
   "id": "a24c4fa9",
   "metadata": {},
   "outputs": [],
   "source": [
    "dnn.add(tf.keras.layers.Dense(5, activation='softmax'))"
   ]
  },
  {
   "cell_type": "code",
   "execution_count": 20,
   "id": "c77d4dbb",
   "metadata": {},
   "outputs": [],
   "source": [
    "dnn.compile(optimizer = 'rmsprop' , loss = 'categorical_crossentropy' , metrics = ['accuracy'])"
   ]
  },
  {
   "cell_type": "code",
   "execution_count": null,
   "id": "174b05cf",
   "metadata": {},
   "outputs": [
    {
     "name": "stdout",
     "output_type": "stream",
     "text": [
      "Epoch 1/170\n",
      "108/108 [==============================] - 13s 111ms/step - loss: 1.4407 - accuracy: 0.3459 - val_loss: 1.3016 - val_accuracy: 0.4543\n",
      "Epoch 2/170\n",
      "108/108 [==============================] - 11s 103ms/step - loss: 1.2858 - accuracy: 0.4316 - val_loss: 1.1648 - val_accuracy: 0.5017\n",
      "Epoch 3/170\n",
      "108/108 [==============================] - 11s 103ms/step - loss: 1.2035 - accuracy: 0.4864 - val_loss: 1.2010 - val_accuracy: 0.5040\n",
      "Epoch 4/170\n",
      "108/108 [==============================] - 12s 107ms/step - loss: 1.1676 - accuracy: 0.5116 - val_loss: 1.2958 - val_accuracy: 0.4855\n",
      "Epoch 5/170\n",
      "101/108 [===========================>..] - ETA: 0s - loss: 1.1135 - accuracy: 0.5530"
     ]
    }
   ],
   "source": [
    "# Train model\n",
    "dnn.fit(x = training_set , validation_data = test_set , epochs = 170)\n",
    "\n",
    "# check test accuracy\n",
    "\n"
   ]
  },
  {
   "cell_type": "code",
   "execution_count": 188,
   "id": "6cd0c176",
   "metadata": {},
   "outputs": [
    {
     "name": "stdout",
     "output_type": "stream",
     "text": [
      "\n",
      "Test accuracy: 0.967\n"
     ]
    }
   ],
   "source": [
    "\n",
    "test_loss, test_acc = dnn.evaluate(test_set ,verbose=3)\n",
    "\n",
    "\n",
    "print('\\nTest accuracy:', test_acc)\n"
   ]
  },
  {
   "cell_type": "code",
   "execution_count": null,
   "id": "e5f13d3b",
   "metadata": {},
   "outputs": [],
   "source": []
  }
 ],
 "metadata": {
  "kernelspec": {
   "display_name": "Python 3 (ipykernel)",
   "language": "python",
   "name": "python3"
  },
  "language_info": {
   "codemirror_mode": {
    "name": "ipython",
    "version": 3
   },
   "file_extension": ".py",
   "mimetype": "text/x-python",
   "name": "python",
   "nbconvert_exporter": "python",
   "pygments_lexer": "ipython3",
   "version": "3.9.8"
  }
 },
 "nbformat": 4,
 "nbformat_minor": 5
}
